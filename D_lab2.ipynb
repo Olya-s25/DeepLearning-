{
  "nbformat": 4,
  "nbformat_minor": 0,
  "metadata": {
    "colab": {
      "provenance": []
    },
    "kernelspec": {
      "name": "python3",
      "display_name": "Python 3"
    },
    "language_info": {
      "name": "python"
    }
  },
  "cells": [
    {
      "cell_type": "code",
      "execution_count": null,
      "metadata": {
        "colab": {
          "base_uri": "https://localhost:8080/"
        },
        "id": "EHcYoAmZebQr",
        "outputId": "9906fdc4-8859-4f79-a303-a1f57be050bf"
      },
      "outputs": [
        {
          "output_type": "stream",
          "name": "stdout",
          "text": [
            "Epoch 1/10, Accuracy: 0.9977\n",
            "Epoch 2/10, Accuracy: 0.9983\n",
            "Epoch 3/10, Accuracy: 0.9987\n",
            "Epoch 4/10, Accuracy: 0.9987\n",
            "Epoch 5/10, Accuracy: 0.9987\n",
            "Epoch 6/10, Accuracy: 0.9988\n",
            "Epoch 7/10, Accuracy: 0.9990\n",
            "Epoch 8/10, Accuracy: 0.9991\n",
            "Epoch 9/10, Accuracy: 0.9992\n",
            "Epoch 10/10, Accuracy: 0.9992\n",
            "\n",
            "Test Accuracy: 0.9991\n",
            "\n",
            "Sample predictions:\n",
            "Image 1: Predicted 0.9997 -> 1 (True: 1)\n",
            "Image 2: Predicted 0.0000 -> 0 (True: 0)\n",
            "Image 3: Predicted 1.0000 -> 1 (True: 1)\n",
            "Image 4: Predicted 0.0000 -> 0 (True: 0)\n",
            "Image 5: Predicted 0.0000 -> 0 (True: 0)\n"
          ]
        }
      ],
      "source": [
        "import numpy as np\n",
        "from tensorflow.keras.datasets import mnist\n",
        "\n",
        "# Загрузка данных MNIST\n",
        "(X_train_full, y_train_full), (X_test_full, y_test_full) = mnist.load_data()\n",
        "\n",
        "# Фильтрация только 0 и 1\n",
        "train_mask = (y_train_full == 0) | (y_train_full == 1)\n",
        "test_mask = (y_test_full == 0) | (y_test_full == 1)\n",
        "\n",
        "X_train, y_train = X_train_full[train_mask], y_train_full[train_mask]\n",
        "X_test, y_test = X_test_full[test_mask], y_test_full[test_mask]\n",
        "\n",
        "# Предварительная обработка данных\n",
        "X_train = X_train.reshape((-1, 28*28)).astype('float32') / 255.0\n",
        "X_test = X_test.reshape((-1, 28*28)).astype('float32') / 255.0\n",
        "\n",
        "# Инициализация весов\n",
        "weights = np.zeros(784)\n",
        "bias = 0\n",
        "\n",
        "# Параметры обучения\n",
        "learning_rate = 0.01\n",
        "epochs = 10\n",
        "\n",
        "# Функция активации (сигмоида)\n",
        "def sigmoid(x):\n",
        "    return 1 / (1 + np.exp(-x))\n",
        "\n",
        "# Метод положительного и отрицательного подкрепления\n",
        "for epoch in range(epochs):\n",
        "    correct = 0\n",
        "    for i in range(len(X_train)):\n",
        "        # Прямое распространение\n",
        "        weighted_sum = np.dot(X_train[i], weights) + bias\n",
        "        prediction = sigmoid(weighted_sum)\n",
        "\n",
        "        # Определение подкрепления\n",
        "        true_label = y_train[i]\n",
        "        predicted_label = 1 if prediction >= 0.5 else 0\n",
        "\n",
        "        if predicted_label == true_label:\n",
        "            # Положительное подкрепление (усиление правильных весов)\n",
        "            reinforcement = learning_rate * (true_label - prediction)\n",
        "            correct += 1\n",
        "        else:\n",
        "            # Отрицательное подкрепление (ослабление неправильных весов)\n",
        "            reinforcement = -learning_rate * (predicted_label - prediction)\n",
        "\n",
        "        # Обновление весов\n",
        "        weights += reinforcement * X_train[i]\n",
        "        bias += reinforcement\n",
        "\n",
        "    # Вывод точности за эпоху\n",
        "    accuracy = correct / len(X_train)\n",
        "    print(f\"Epoch {epoch+1}/{epochs}, Accuracy: {accuracy:.4f}\")\n",
        "\n",
        "# Оценка на тестовом наборе\n",
        "test_correct = 0\n",
        "for i in range(len(X_test)):\n",
        "    weighted_sum = np.dot(X_test[i], weights) + bias\n",
        "    prediction = sigmoid(weighted_sum)\n",
        "    predicted_label = 1 if prediction >= 0.5 else 0\n",
        "    if predicted_label == y_test[i]:\n",
        "        test_correct += 1\n",
        "\n",
        "test_accuracy = test_correct / len(X_test)\n",
        "print(f\"\\nTest Accuracy: {test_accuracy:.4f}\")\n",
        "\n",
        "# Пример предсказания для нескольких изображений\n",
        "print(\"\\nSample predictions:\")\n",
        "for i in range(5):\n",
        "    weighted_sum = np.dot(X_test[i], weights) + bias\n",
        "    prediction = sigmoid(weighted_sum)\n",
        "    predicted_label = 1 if prediction >= 0.5 else 0\n",
        "    print(f\"Image {i+1}: Predicted {prediction:.4f} -> {predicted_label} (True: {y_test[i]})\")"
      ]
    }
  ]
}
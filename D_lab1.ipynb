{
  "nbformat": 4,
  "nbformat_minor": 0,
  "metadata": {
    "colab": {
      "provenance": []
    },
    "kernelspec": {
      "name": "python3",
      "display_name": "Python 3"
    },
    "language_info": {
      "name": "python"
    }
  },
  "cells": [
    {
      "cell_type": "code",
      "execution_count": 1,
      "metadata": {
        "colab": {
          "base_uri": "https://localhost:8080/"
        },
        "id": "LdfCKUq73oIj",
        "outputId": "a22d0ccf-58d8-4b9a-c837-d52b8433e6ef"
      },
      "outputs": [
        {
          "output_type": "stream",
          "name": "stdout",
          "text": [
            "Downloading data from https://storage.googleapis.com/tensorflow/tf-keras-datasets/mnist.npz\n",
            "\u001b[1m11490434/11490434\u001b[0m \u001b[32m━━━━━━━━━━━━━━━━━━━━\u001b[0m\u001b[37m\u001b[0m \u001b[1m0s\u001b[0m 0us/step\n",
            "Epoch 1/10, Accuracy: 0.9974\n",
            "Epoch 2/10, Accuracy: 0.9991\n",
            "Epoch 3/10, Accuracy: 0.9994\n",
            "Epoch 4/10, Accuracy: 0.9996\n",
            "Epoch 5/10, Accuracy: 0.9998\n",
            "Epoch 6/10, Accuracy: 0.9998\n",
            "Epoch 7/10, Accuracy: 0.9999\n",
            "Epoch 8/10, Accuracy: 1.0000\n",
            "Epoch 9/10, Accuracy: 1.0000\n",
            "Epoch 10/10, Accuracy: 1.0000\n",
            "\n",
            "Test Accuracy: 0.9995\n",
            "\n",
            "Sample predictions:\n",
            "Image 1: Predicted 0.9999 -> 1 (True: 1)\n",
            "Image 2: Predicted 0.0000 -> 0 (True: 0)\n",
            "Image 3: Predicted 1.0000 -> 1 (True: 1)\n",
            "Image 4: Predicted 0.0000 -> 0 (True: 0)\n",
            "Image 5: Predicted 0.0000 -> 0 (True: 0)\n"
          ]
        }
      ],
      "source": [
        "import numpy as np\n",
        "from tensorflow.keras.datasets import mnist\n",
        "\n",
        "# Загрузка данных MNIST\n",
        "(X_train_full, y_train_full), (X_test_full, y_test_full) = mnist.load_data()\n",
        "\n",
        "# Фильтрация только 0 и 1\n",
        "train_mask = (y_train_full == 0) | (y_train_full == 1)\n",
        "test_mask = (y_test_full == 0) | (y_test_full == 1)\n",
        "\n",
        "X_train, y_train = X_train_full[train_mask], y_train_full[train_mask]\n",
        "X_test, y_test = X_test_full[test_mask], y_test_full[test_mask]\n",
        "\n",
        "# Предварительная обработка данных\n",
        "X_train = X_train.reshape((-1, 28*28)).astype('float32') / 255.0\n",
        "X_test = X_test.reshape((-1, 28*28)).astype('float32') / 255.0\n",
        "\n",
        "\n",
        "# Инициализация весов\n",
        "weights = np.zeros(784)\n",
        "bias = 0\n",
        "\n",
        "# Параметры обучения\n",
        "learning_rate = 0.1\n",
        "epochs = 10\n",
        "\n",
        "# Функция активации (сигмоида)\n",
        "def sigmoid(x):\n",
        "    return 1 / (1 + np.exp(-x))\n",
        "\n",
        "# Обучение с помощью градиентного спуска\n",
        "for epoch in range(epochs):\n",
        "    correct = 0\n",
        "    for i in range(len(X_train)):\n",
        "        # Прямое распространение\n",
        "        weighted_sum = np.dot(X_train[i], weights) + bias\n",
        "        prediction = sigmoid(weighted_sum)\n",
        "\n",
        "        # Вычисление ошибки\n",
        "        error = y_train[i] - prediction\n",
        "\n",
        "        # Вычисление градиентов\n",
        "        gradient_weights = error * X_train[i]\n",
        "        gradient_bias = error\n",
        "\n",
        "        # Обновление весов\n",
        "        weights += learning_rate * gradient_weights\n",
        "        bias += learning_rate * gradient_bias\n",
        "\n",
        "        # Подсчёт правильных предсказаний\n",
        "        predicted_label = 1 if prediction >= 0.5 else 0\n",
        "        if predicted_label == y_train[i]:\n",
        "            correct += 1\n",
        "\n",
        "    # Вывод точности за эпоху\n",
        "    accuracy = correct / len(X_train)\n",
        "    print(f\"Epoch {epoch+1}/{epochs}, Accuracy: {accuracy:.4f}\")\n",
        "\n",
        "# Оценка на тестовом наборе\n",
        "test_correct = 0\n",
        "for i in range(len(X_test)):\n",
        "    weighted_sum = np.dot(X_test[i], weights) + bias\n",
        "    prediction = sigmoid(weighted_sum)\n",
        "    predicted_label = 1 if prediction >= 0.5 else 0\n",
        "    if predicted_label == y_test[i]:\n",
        "        test_correct += 1\n",
        "\n",
        "test_accuracy = test_correct / len(X_test)\n",
        "print(f\"\\nTest Accuracy: {test_accuracy:.4f}\")\n",
        "\n",
        "# Пример предсказания для нескольких изображений\n",
        "print(\"\\nSample predictions:\")\n",
        "for i in range(5):\n",
        "    weighted_sum = np.dot(X_test[i], weights) + bias\n",
        "    prediction = sigmoid(weighted_sum)\n",
        "    predicted_label = 1 if prediction >= 0.5 else 0\n",
        "    print(f\"Image {i+1}: Predicted {prediction:.4f} -> {predicted_label} (True: {y_test[i]})\")"
      ]
    }
  ]
}